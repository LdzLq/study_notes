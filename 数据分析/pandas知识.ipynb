{
 "cells": [
  {
   "cell_type": "markdown",
   "id": "1c2b688f-d194-47eb-b891-3a0617489605",
   "metadata": {},
   "source": [
    "## 数据处理之pandas知识\n",
    "> pandas基于numpy开发  \n",
    "> 特有数据结构，Series、DataFrame、Panel、Panel4D、PanelND\n",
    "### Series和DataFrame\n",
    "#### Series---一维数组\n",
    "\n",
    "\n",
    "### 读取数据\n",
    "1. **读取csv**: `pandas.read_csv(path={路径/网络url}, on_bad_lines='skip', quotechar='\"', quoting=1, skipinitialspace=True)`，**效果是去除空格，跳过问题行，遇见双引号包裹，且有逗号分隔的值，当作一个完整值**\n",
    "\n",
    "### 数据预览\n",
    "1. `df.head()`：**查看前5行数据，最重要的注意点：可以检查数据的列名是否与数据一一匹配（特别是读取csv文件，列名和对应列数据可能会不匹配）**\n",
    "2. `df.tail(line_number)`：查看后几行（可以指定行数）数据\n",
    "3. `df.index`：查看索引数，和`df.shape`：查看形状，返回值就是(总行数, 总列数)，和`df.describe()`：查看数据集的统计信息；**这两行代码可以查看数据数量是否一直，数据是否又缺失**\n",
    "\n",
    "例如，下面就是真实df的数据信息：  \n",
    "```\n",
    "当前df有多少行： RangeIndex(start=0, stop=2041789, step=1) <class 'pandas.core.indexes.range.RangeIndex'>\r\n",
    "当前df的形状： (2041789, 4) <class 'tuple'>\r\n",
    "当前df的信息：        start_seconds   end_seconds\r\n",
    "count   2.041789e+06  2.041789e+06\r\n",
    "mean    7.232549e+01  8.228370e+01\r\n",
    "std     1.043583e+02  1.043857e+02\r\n",
    "min     0.000000e+00  1.000000e+00\r\n",
    "25%     3.000000e+01  4.000000e+01\r\n",
    "50%     3.000000e+01  4.000000e+01\r\n",
    "75%     6.000000e+01  7.000000e+01\r\n",
    "max     5.900000e+02  6.000000e+02 <class 'pandas.core.frame.DataFrame'>\r\n",
    "查看当前df的列索引： Index(['# YTID', 'start_seconds', 'end_seconds', 'positive_labels'], dtype='object') <class 'pandas.core.indexes.base.Index'>\r\n",
    "查看当前df的前5行：         # YTID  ...                                    positive_labels\r\n",
    "0  ---1_cCGK4M  ...  /m/01g50p,/m/0284vy3,/m/06d_3,/m/07jdr,/m/07rwm0c\r\n",
    "1  ---2_BBVHAA  ...                                           /m/09x0r\r\n",
    "2  ---B_v8ZoBY  ...                                           /m/04rlf\r\n",
    "3  ---EDNidJUA  ...              /m/02qldy,/m/02zsn,/m/05zppz,/m/09x0r\r\n",
    "4  ---N4cFAE1A  ...                                  /m/04rlf,/m/09x0r\r\n",
    "\r\n",
    "[5 rows x 4 columns] <class 'pandas.core.fr\n",
    "ame.DataFrame'>\n",
    "```\n",
    "### 提取数据\n",
    "1. 单列提取: `df['列名']`，返回值Series\n",
    "2. 多列提取: `df[['列1', '\n",
    "3. `.loc`选择数据：`df.loc[rows, columns] # rows 和 columns 可以是布尔数组、切片或列名列表`\n",
    "4. `.iloc`选择数据：`df.iloc[row_indices, column_indices] # 使用整数索引选择`列2']]`，返回值DataFrame\n",
    "\n",
    "### 数据合并和拼接\n",
    "1. `pd.concat()`参数有[数组1, 数组2, ...]，和**axis=1表示按列拼接，=0表示按行拼接**，如`pd.concat([pd1, pd2], axis=1)`，pd1和pd2按列拼接\n",
    "\n",
    "### 数据转换\n",
    "1. `df.values`\n",
    "\n",
    "### 数据筛选\n",
    "1. `df[对值的判断]`，如`df[(df['column1'] > value1) & (df['column2'] == value2)]`\n",
    "2. **复杂查询**：`df.query()`，如`df.query('column1 > @value1 and column2 == @value2')`将DataFrame转成Numpy数组"
   ]
  },
  {
   "cell_type": "code",
   "execution_count": null,
   "id": "a7367d9f",
   "metadata": {},
   "outputs": [],
   "source": []
  },
  {
   "cell_type": "code",
   "execution_count": null,
   "id": "48d5108f-e5bb-44d0-bd0e-8c6a247a38a7",
   "metadata": {},
   "outputs": [],
   "source": []
  }
 ],
 "metadata": {
  "kernelspec": {
   "display_name": "Python 3 (ipykernel)",
   "language": "python",
   "name": "python3"
  },
  "language_info": {
   "codemirror_mode": {
    "name": "ipython",
    "version": 3
   },
   "file_extension": ".py",
   "mimetype": "text/x-python",
   "name": "python",
   "nbconvert_exporter": "python",
   "pygments_lexer": "ipython3",
   "version": "3.10.0"
  }
 },
 "nbformat": 4,
 "nbformat_minor": 5
}
