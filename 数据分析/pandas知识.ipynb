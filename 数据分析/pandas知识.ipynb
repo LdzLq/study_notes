{
 "cells": [
  {
   "cell_type": "markdown",
   "id": "1c2b688f-d194-47eb-b891-3a0617489605",
   "metadata": {},
   "source": [
    "## 数据处理之pandas知识\n",
    "### Series和DataFrame\n",
    "\n",
    "\n",
    "### 读取数据\n",
    "1. 读取csv: `pandas.read_csv(path={路径/网络url})`，如：`pandas.read_csv(\"https://cdn.aibydoing.com/aibydoing/files/los_census.csv\")`读取的结果就是DataFrame"
   ]
  }
 ],
 "metadata": {
  "kernelspec": {
   "display_name": "Python 3 (ipykernel)",
   "language": "python",
   "name": "python3"
  },
  "language_info": {
   "codemirror_mode": {
    "name": "ipython",
    "version": 3
   },
   "file_extension": ".py",
   "mimetype": "text/x-python",
   "name": "python",
   "nbconvert_exporter": "python",
   "pygments_lexer": "ipython3",
   "version": "3.10.14"
  }
 },
 "nbformat": 4,
 "nbformat_minor": 5
}
