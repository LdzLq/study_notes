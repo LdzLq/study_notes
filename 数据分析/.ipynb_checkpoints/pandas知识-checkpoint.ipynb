{
 "cells": [
  {
   "cell_type": "markdown",
   "id": "1c2b688f-d194-47eb-b891-3a0617489605",
   "metadata": {},
   "source": [
    "## 数据处理之pandas知识\n",
    "> pandas基于numpy开发  \n",
    "> 特有数据结构，Series、DataFrame、Panel、Panel4D、PanelND\n",
    "### Series和DataFrame\n",
    "#### Series---一维数组\n",
    "\n",
    "\n",
    "### 读取数据\n",
    "1. 读取csv: `pandas.read_csv(path={路径/网络url})`，如：`pandas.read_csv(\"https://cdn.aibydoing.com/aibydoing/files/los_census.csv\")`读取的结果就是DataFrame\n",
    "\n",
    "### 提取数据\n",
    "1. 单列提取: `df['列名']`，返回值Series\n",
    "2. 多列提取: `df[['列1', '列2']]`，返回值DataFrame\n",
    "\n",
    "### 数据合并和拼接\n",
    "1. `pd.concat()`参数有[数组1, 数组2, ...]，和**axis=1表示按列拼接，=0表示按行拼接**，如`pd.concat([pd1, pd2], axis=1)`，pd1和pd2按列拼接\n",
    "\n",
    "### 数据转换\n",
    "1. `df.values`将DataFrame转成Numpy数组"
   ]
  },
  {
   "cell_type": "code",
   "execution_count": null,
   "id": "a7367d9f",
   "metadata": {},
   "outputs": [],
   "source": []
  }
 ],
 "metadata": {
  "kernelspec": {
   "display_name": "Python 3 (ipykernel)",
   "language": "python",
   "name": "python3"
  },
  "language_info": {
   "codemirror_mode": {
    "name": "ipython",
    "version": 3
   },
   "file_extension": ".py",
   "mimetype": "text/x-python",
   "name": "python",
   "nbconvert_exporter": "python",
   "pygments_lexer": "ipython3",
   "version": "3.10.9"
  }
 },
 "nbformat": 4,
 "nbformat_minor": 5
}
