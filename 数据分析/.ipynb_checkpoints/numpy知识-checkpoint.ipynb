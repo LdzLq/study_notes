{
 "cells": [
  {
   "cell_type": "markdown",
   "id": "a938ccad-9172-4926-b519-c212c132707b",
   "metadata": {},
   "source": [
    "## numpy库\n",
    "### 初始化数组\n",
    "1.python的**元组或列表**转换成numpy数组  \n",
    "```numpy.array(元组/列表, dtype=数据类型, copy=True/False, order=顺序, subok=子类是否传递, ndmin=生成数组具有的最小维数)```  \n",
    "例如：`numpy.array([[1,2,3],[4,5,6]])`，输出`array([[1,2,3],[4,5,6]])`  \n",
    "\n",
    "2.`numpy.linspace`是生成**指定范围内等间隔**数值序列，例如：  \n",
    "np.linspace(0,50,100)，其中0起，50终，100为取点数，等间隔取点，返回值为数值序列，或者元组(数值序列,length)\n",
    "### 数组信息\n",
    "1.numpy中`shape`是返回数组维度信息，shape值是一个元组，可以索引获取维度值，例如：`x.shape[0]`  \n",
    "\n",
    "2.`reshape`是修改数组维度，但是元素总数必须一致，例如:`x.reshape(2,3)`\n"
   ]
  },
  {
   "cell_type": "code",
   "execution_count": null,
   "id": "a89f29b5-0480-4072-8846-c7706da80838",
   "metadata": {},
   "outputs": [],
   "source": []
  }
 ],
 "metadata": {
  "kernelspec": {
   "display_name": "Python 3 (ipykernel)",
   "language": "python",
   "name": "python3"
  },
  "language_info": {
   "codemirror_mode": {
    "name": "ipython",
    "version": 3
   },
   "file_extension": ".py",
   "mimetype": "text/x-python",
   "name": "python",
   "nbconvert_exporter": "python",
   "pygments_lexer": "ipython3",
   "version": "3.10.9"
  }
 },
 "nbformat": 4,
 "nbformat_minor": 5
}
