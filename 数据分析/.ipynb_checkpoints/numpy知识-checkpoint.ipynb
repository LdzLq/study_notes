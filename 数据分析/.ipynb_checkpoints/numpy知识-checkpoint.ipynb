{
 "cells": [
  {
   "cell_type": "markdown",
   "id": "a938ccad-9172-4926-b519-c212c132707b",
   "metadata": {},
   "source": [
    "### numpy库\n",
    "#### 变量赋值\n",
    "1.python的**元组或列表**转换成numpy数组  \n",
    "`numpy.array(元组/列表, dtype=数据类型, copy=True/False, order=顺序, subok=子类是否传递, ndmin=生成数组具有的最小维数)`  \n",
    "例如：`numpy.array([[1,2,3],[4,5,6]])`，输出`array([[1,2,3],[4,5,6]])`  \n"
   ]
  },
  {
   "cell_type": "code",
   "execution_count": null,
   "id": "a89f29b5-0480-4072-8846-c7706da80838",
   "metadata": {},
   "outputs": [],
   "source": []
  }
 ],
 "metadata": {
  "kernelspec": {
   "display_name": "Python 3 (ipykernel)",
   "language": "python",
   "name": "python3"
  },
  "language_info": {
   "codemirror_mode": {
    "name": "ipython",
    "version": 3
   },
   "file_extension": ".py",
   "mimetype": "text/x-python",
   "name": "python",
   "nbconvert_exporter": "python",
   "pygments_lexer": "ipython3",
   "version": "3.10.14"
  }
 },
 "nbformat": 4,
 "nbformat_minor": 5
}
