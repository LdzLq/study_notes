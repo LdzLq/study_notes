{
 "cells": [
  {
   "cell_type": "markdown",
   "id": "5a28e541-d627-4b4a-83ae-435ada8a7528",
   "metadata": {},
   "source": [
    "### 高数知识\n",
    "1. 求偏导数\n",
    "举例：f是函数，有自变量x，y，z，`f=x+y+z`，f分别对x，y，z求导，**没有求导的自变量，当作常量处理**；\n",
    "如：f对x求导：$\\frac{\\partial f} {\\partial x} = 1$\n",
    "2.  "
   ]
  },
  {
   "cell_type": "markdown",
   "id": "efa67518-6537-4eac-bde1-8bd81e14f5f6",
   "metadata": {},
   "source": [
    "### 线性代数知识\n",
    "1. 矩阵乘法"
   ]
  }
 ],
 "metadata": {
  "kernelspec": {
   "display_name": "Python 3 (ipykernel)",
   "language": "python",
   "name": "python3"
  },
  "language_info": {
   "codemirror_mode": {
    "name": "ipython",
    "version": 3
   },
   "file_extension": ".py",
   "mimetype": "text/x-python",
   "name": "python",
   "nbconvert_exporter": "python",
   "pygments_lexer": "ipython3",
   "version": "3.10.14"
  }
 },
 "nbformat": 4,
 "nbformat_minor": 5
}
